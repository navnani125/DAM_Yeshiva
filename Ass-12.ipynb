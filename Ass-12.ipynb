{
 "cells": [
  {
   "cell_type": "markdown",
   "id": "0e578614-4736-4d3d-affe-be42c8d0e3a2",
   "metadata": {},
   "source": [
    "## 3"
   ]
  },
  {
   "cell_type": "code",
   "execution_count": 7,
   "id": "067ed3ef-ac87-4f87-baf8-0742dd0cda41",
   "metadata": {},
   "outputs": [
    {
     "name": "stderr",
     "output_type": "stream",
     "text": [
      "[nltk_data] Downloading package punkt to\n",
      "[nltk_data]     C:\\Users\\navna\\AppData\\Roaming\\nltk_data...\n",
      "[nltk_data]   Package punkt is already up-to-date!\n",
      "[nltk_data] Downloading package stopwords to\n",
      "[nltk_data]     C:\\Users\\navna\\AppData\\Roaming\\nltk_data...\n",
      "[nltk_data]   Package stopwords is already up-to-date!\n"
     ]
    },
    {
     "data": {
      "text/html": [
       "<div>\n",
       "<style scoped>\n",
       "    .dataframe tbody tr th:only-of-type {\n",
       "        vertical-align: middle;\n",
       "    }\n",
       "\n",
       "    .dataframe tbody tr th {\n",
       "        vertical-align: top;\n",
       "    }\n",
       "\n",
       "    .dataframe thead th {\n",
       "        text-align: right;\n",
       "    }\n",
       "</style>\n",
       "<table border=\"1\" class=\"dataframe\">\n",
       "  <thead>\n",
       "    <tr style=\"text-align: right;\">\n",
       "      <th></th>\n",
       "      <th>POS</th>\n",
       "      <th>NEG</th>\n",
       "    </tr>\n",
       "  </thead>\n",
       "  <tbody>\n",
       "    <tr>\n",
       "      <th>films</th>\n",
       "      <td>877</td>\n",
       "      <td>643</td>\n",
       "    </tr>\n",
       "    <tr>\n",
       "      <th>adapted</th>\n",
       "      <td>28</td>\n",
       "      <td>17</td>\n",
       "    </tr>\n",
       "    <tr>\n",
       "      <th>comic</th>\n",
       "      <td>209</td>\n",
       "      <td>166</td>\n",
       "    </tr>\n",
       "    <tr>\n",
       "      <th>books</th>\n",
       "      <td>49</td>\n",
       "      <td>27</td>\n",
       "    </tr>\n",
       "    <tr>\n",
       "      <th>plenty</th>\n",
       "      <td>73</td>\n",
       "      <td>58</td>\n",
       "    </tr>\n",
       "  </tbody>\n",
       "</table>\n",
       "</div>"
      ],
      "text/plain": [
       "         POS  NEG\n",
       "films    877  643\n",
       "adapted   28   17\n",
       "comic    209  166\n",
       "books     49   27\n",
       "plenty    73   58"
      ]
     },
     "execution_count": 7,
     "metadata": {},
     "output_type": "execute_result"
    }
   ],
   "source": [
    "import os\n",
    "import nltk\n",
    "from nltk.corpus import stopwords\n",
    "from nltk.tokenize import word_tokenize\n",
    "import pandas as pd\n",
    "import string\n",
    "\n",
    "# Ensure necessary NLTK resources are available\n",
    "nltk.download('punkt')\n",
    "nltk.download('stopwords')\n",
    "\n",
    "# Set of English stopwords\n",
    "stop_words = set(stopwords.words('english'))\n",
    "\n",
    "def preprocess_review(text):\n",
    "    \"\"\"\n",
    "    Preprocesses a given text by tokenizing, converting to lowercase,\n",
    "    removing punctuation, and filtering out stopwords.\n",
    "    \"\"\"\n",
    "    # Tokenize text\n",
    "    tokens = word_tokenize(text)\n",
    "    # Convert to lower case and remove punctuation\n",
    "    tokens = [word.lower() for word in tokens if word.isalpha()]\n",
    "    # Remove stopwords\n",
    "    tokens = [word for word in tokens if word not in stop_words]\n",
    "    return tokens\n",
    "\n",
    "def load_and_preprocess_reviews(directory):\n",
    "    \"\"\"\n",
    "    Loads and preprocesses all review files in a specified directory.\n",
    "    \"\"\"\n",
    "    reviews = []\n",
    "    file_names = os.listdir(directory)\n",
    "    for file_name in file_names:\n",
    "        file_path = os.path.join(directory, file_name)\n",
    "        with open(file_path, 'r', encoding='utf-8') as file:\n",
    "            content = file.read()\n",
    "            preprocessed_content = preprocess_review(content)\n",
    "            reviews.append(preprocessed_content)\n",
    "    return reviews\n",
    "\n",
    "def create_term_document_matrix(reviews):\n",
    "    \"\"\"\n",
    "    Creates a term-document matrix from preprocessed reviews.\n",
    "    \"\"\"\n",
    "    term_doc_dict = {}\n",
    "    \n",
    "    for review, label in reviews:\n",
    "        word_count = {}\n",
    "        for word in review:\n",
    "            if word not in word_count:\n",
    "                word_count[word] = 1\n",
    "            else:\n",
    "                word_count[word] += 1\n",
    "        \n",
    "        for word, count in word_count.items():\n",
    "            if word not in term_doc_dict:\n",
    "                term_doc_dict[word] = [count if label == lbl else 0 for lbl in ['POS', 'NEG']]\n",
    "            else:\n",
    "                term_doc_dict[word][0 if label == 'POS' else 1] += count\n",
    "    \n",
    "    term_document_matrix = pd.DataFrame.from_dict(term_doc_dict, orient='index', columns=['POS', 'NEG'])\n",
    "    return term_document_matrix\n",
    "\n",
    "# Paths to the directories containing positive and negative reviews\n",
    "pos_directory = r\"C:\\Users\\navna\\Downloads\\AIM-5001-main\\pos\"\n",
    "neg_directory = r\"C:\\Users\\navna\\Downloads\\AIM-5001-main\\neg\"\n",
    "\n",
    "# Load and preprocess all reviews\n",
    "pos_reviews = load_and_preprocess_reviews(pos_directory)\n",
    "neg_reviews = load_and_preprocess_reviews(neg_directory)\n",
    "all_reviews = [(review, 'POS') for review in pos_reviews] + [(review, 'NEG') for review in neg_reviews]\n",
    "\n",
    "# Create the term-document matrix\n",
    "term_document_matrix = create_term_document_matrix(all_reviews)\n",
    "\n",
    "# Display part of the matrix\n",
    "term_document_matrix.head()"
   ]
  },
  {
   "cell_type": "markdown",
   "id": "2293493f-920d-4e1f-a42a-90f854927b47",
   "metadata": {},
   "source": [
    "## 4"
   ]
  },
  {
   "cell_type": "code",
   "execution_count": 11,
   "id": "16bcb424-5c57-44a3-8e20-633a1d3d5971",
   "metadata": {},
   "outputs": [
    {
     "data": {
      "text/plain": [
       "array([[877, 643],\n",
       "       [ 28,  17],\n",
       "       [209, 166],\n",
       "       ...,\n",
       "       [  0,   1],\n",
       "       [  0,   1],\n",
       "       [  0,   1]], dtype=int64)"
      ]
     },
     "execution_count": 11,
     "metadata": {},
     "output_type": "execute_result"
    }
   ],
   "source": [
    "import numpy as np\n",
    "\n",
    "# Assuming 'term_document_matrix' is your DataFrame\n",
    "numpy_array = term_document_matrix.values\n",
    "numpy_array\n"
   ]
  },
  {
   "cell_type": "code",
   "execution_count": 12,
   "id": "61e33793-a072-4a1b-baaa-5308b5cea51b",
   "metadata": {},
   "outputs": [
    {
     "data": {
      "text/plain": [
       "array([[877, 643],\n",
       "       [ 28,  17],\n",
       "       [209, 166],\n",
       "       ...,\n",
       "       [  0,   1],\n",
       "       [  0,   1],\n",
       "       [  0,   1]], dtype=int64)"
      ]
     },
     "execution_count": 12,
     "metadata": {},
     "output_type": "execute_result"
    }
   ],
   "source": [
    "# More explicit method to convert DataFrame to NumPy array\n",
    "numpy_array = term_document_matrix.to_numpy()\n",
    "numpy_array\n"
   ]
  },
  {
   "cell_type": "code",
   "execution_count": 13,
   "id": "95d2cc7a-a7f5-453b-9073-1bd517602e44",
   "metadata": {},
   "outputs": [
    {
     "name": "stdout",
     "output_type": "stream",
     "text": [
      "Shape of the array: (37964, 2)\n",
      "Total count of all words in all reviews: 678727\n"
     ]
    }
   ],
   "source": [
    "# Continue to work with 'numpy_array' for any computational needs\n",
    "print(\"Shape of the array:\", numpy_array.shape)\n",
    "\n",
    "# Example: Summing up all entries (to get total counts of all words in all reviews)\n",
    "total_count = numpy_array.sum()\n",
    "print(\"Total count of all words in all reviews:\", total_count)\n"
   ]
  },
  {
   "cell_type": "markdown",
   "id": "ae3c00b0-f0eb-4736-b39e-94bd2eb72d50",
   "metadata": {},
   "source": [
    "## 5"
   ]
  },
  {
   "cell_type": "code",
   "execution_count": 14,
   "id": "df17c322-de40-4f29-8b49-0475db3aeb40",
   "metadata": {},
   "outputs": [
    {
     "name": "stdout",
     "output_type": "stream",
     "text": [
      "Sparsity of the matrix: 25.88%\n"
     ]
    }
   ],
   "source": [
    "# Assuming you have converted your DataFrame to a NumPy array already\n",
    "numpy_array = term_document_matrix.to_numpy()\n",
    "\n",
    "# Count the number of zeroes\n",
    "zero_count = np.count_nonzero(numpy_array == 0)\n",
    "\n",
    "# Total number of entries\n",
    "total_entries = numpy_array.size\n",
    "\n",
    "# Calculate the sparsity percentage\n",
    "sparsity_percentage = (zero_count / total_entries) * 100\n",
    "\n",
    "print(f\"Sparsity of the matrix: {sparsity_percentage:.2f}%\")"
   ]
  },
  {
   "cell_type": "code",
   "execution_count": null,
   "id": "04ee8e8a-9af3-409f-bf3e-cb36a7624221",
   "metadata": {},
   "outputs": [],
   "source": []
  },
  {
   "cell_type": "code",
   "execution_count": null,
   "id": "36d723b3-6082-4568-8723-b120cf5a9d36",
   "metadata": {},
   "outputs": [],
   "source": []
  },
  {
   "cell_type": "code",
   "execution_count": null,
   "id": "d931a3e4-95d5-4864-8053-7ffe4e1b81c7",
   "metadata": {},
   "outputs": [],
   "source": []
  },
  {
   "cell_type": "code",
   "execution_count": null,
   "id": "41b68911-b1ef-4c32-8286-6ea0e47f4f30",
   "metadata": {},
   "outputs": [],
   "source": []
  },
  {
   "cell_type": "code",
   "execution_count": null,
   "id": "6d4eee58-f33e-49c7-add4-8c92319a4177",
   "metadata": {},
   "outputs": [],
   "source": []
  },
  {
   "cell_type": "code",
   "execution_count": null,
   "id": "45bd2146-2527-4043-9f7c-690e795dae50",
   "metadata": {},
   "outputs": [],
   "source": []
  },
  {
   "cell_type": "code",
   "execution_count": null,
   "id": "ce37afac-862e-4592-b335-867cd5537894",
   "metadata": {},
   "outputs": [],
   "source": [
    "# import zipfile\n",
    "# import os\n",
    "\n",
    "# # Path to the ZIP file\n",
    "# zip_path = '/mnt/data/AIM-5001-main (2).zip'\n",
    "# extract_folder = '/mnt/data/movie_reviews'\n",
    "\n",
    "# # Extract the ZIP file\n",
    "# with zipfile.ZipFile(zip_path, 'r') as zip_ref:\n",
    "#     zip_ref.extractall(extract_folder)\n",
    "\n",
    "# # List the contents of the extracted directory to understand its structure\n",
    "# os.listdir(extract_folder)\n"
   ]
  },
  {
   "cell_type": "code",
   "execution_count": null,
   "id": "502fc492-cb9d-4111-81a7-7b35d79e6183",
   "metadata": {},
   "outputs": [],
   "source": [
    "# # Checking the further contents within the extracted main directory to find the review directories\n",
    "# os.listdir(f\"{extract_folder}/AIM-5001-main\")\n"
   ]
  },
  {
   "cell_type": "code",
   "execution_count": null,
   "id": "a199f00a-b564-4387-a07e-36ceedd49b16",
   "metadata": {},
   "outputs": [],
   "source": []
  },
  {
   "cell_type": "code",
   "execution_count": null,
   "id": "96559d58-0387-4247-9ce9-0dda72d2e2c7",
   "metadata": {},
   "outputs": [],
   "source": [
    "# # Function to read reviews from a directory and preprocess them\n",
    "# def load_and_preprocess_reviews(directory):\n",
    "#     reviews = []\n",
    "#     file_names = os.listdir(directory)\n",
    "#     for file_name in file_names:\n",
    "#         file_path = os.path.join(directory, file_name)\n",
    "#         with open(file_path, 'r', encoding='utf-8') as file:\n",
    "#             content = file.read()\n",
    "#             preprocessed_content = preprocess_review(content)\n",
    "#             reviews.append(preprocessed_content)\n",
    "#     return reviews\n",
    "\n",
    "# # Load and preprocess a few reviews from both directories to test\n",
    "# pos_reviews_sample = load_and_preprocess_reviews(f\"{extract_folder}/AIM-5001-main/pos\")[:2]  # Load first 2 for testing\n",
    "# neg_reviews_sample = load_and_preprocess_reviews(f\"{extract_folder}/AIM-5001-main/neg\")[:2]  # Load first 2 for testing\n",
    "\n",
    "# pos_reviews_sample, neg_reviews_sample\n"
   ]
  },
  {
   "cell_type": "code",
   "execution_count": null,
   "id": "c4c9cb40-0ef7-41ec-8bc5-8dca1ec90f9d",
   "metadata": {},
   "outputs": [],
   "source": [
    "# import pandas as pd\n",
    "\n",
    "# # Function to load all reviews and return them with labels\n",
    "# def load_all_reviews(pos_directory, neg_directory):\n",
    "#     pos_reviews = load_and_preprocess_reviews(pos_directory)\n",
    "#     neg_reviews = load_and_preprocess_reviews(neg_directory)\n",
    "#     # Create a list of tuples (review, label)\n",
    "#     labeled_reviews = [(review, 'POS') for review in pos_reviews] + [(review, 'NEG') for review in neg_reviews]\n",
    "#     return labeled_reviews\n",
    "\n",
    "# # Load all reviews from the directories\n",
    "# all_reviews = load_all_reviews(f\"{extract_folder}/AIM-5001-main/pos\", f\"{extract_folder}/AIM-5001-main/neg\")\n",
    "\n",
    "# # Construct a dictionary to count occurrences of each word in each review\n",
    "# def create_term_document_matrix(reviews):\n",
    "#     # Create a dictionary to hold the term-document data\n",
    "#     term_doc_dict = {}\n",
    "    \n",
    "#     for review, label in reviews:\n",
    "#         # Initialize a temporary dictionary to count words in the current review\n",
    "#         word_count = {}\n",
    "#         for word in review:\n",
    "#             if word not in word_count:\n",
    "#                 word_count[word] = 1\n",
    "#             else:\n",
    "#                 word_count[word] += 1\n",
    "        \n",
    "#         # Add the word counts to the main dictionary, handling multiple reviews\n",
    "#         for word, count in word_count.items():\n",
    "#             if word not in term_doc_dict:\n",
    "#                 term_doc_dict[word] = [count if label == lbl else 0 for lbl in ['POS', 'NEG']]\n",
    "#             else:\n",
    "#                 term_doc_dict[word][0 if label == 'POS' else 1] += count\n",
    "    \n",
    "#     # Convert dictionary to DataFrame\n",
    "#     term_document_matrix = pd.DataFrame.from_dict(term_doc_dict, orient='index', columns=['POS', 'NEG'])\n",
    "    \n",
    "#     return term_document_matrix\n",
    "\n",
    "# # Generate the term-document matrix\n",
    "# term_document_matrix = create_term_document_matrix(all_reviews)\n",
    "# term_document_matrix.head()\n"
   ]
  },
  {
   "cell_type": "code",
   "execution_count": null,
   "id": "9a41c820-fc37-4dd9-96fb-149edf951075",
   "metadata": {},
   "outputs": [],
   "source": []
  }
 ],
 "metadata": {
  "kernelspec": {
   "display_name": "Python 3 (ipykernel)",
   "language": "python",
   "name": "python3"
  },
  "language_info": {
   "codemirror_mode": {
    "name": "ipython",
    "version": 3
   },
   "file_extension": ".py",
   "mimetype": "text/x-python",
   "name": "python",
   "nbconvert_exporter": "python",
   "pygments_lexer": "ipython3",
   "version": "3.12.1"
  }
 },
 "nbformat": 4,
 "nbformat_minor": 5
}
